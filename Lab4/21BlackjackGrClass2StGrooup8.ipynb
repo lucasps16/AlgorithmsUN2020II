{
  "nbformat": 4,
  "nbformat_minor": 0,
  "metadata": {
    "colab": {
      "name": "MontecarloCirclePI.ipynb",
      "provenance": [],
      "collapsed_sections": [
        "jAGe4H-HaQB7",
        "lomfu2ZPaofC",
        "oA7a417ku6i0",
        "oMX2qW0inDb6",
        "NVO2WkNAJiSN"
      ]
    },
    "kernelspec": {
      "name": "python3",
      "display_name": "Python 3"
    }
  },
  "cells": [
    {
      "cell_type": "markdown",
      "metadata": {
        "id": "qi6FZDaVxvrK"
      },
      "source": [
        "# Laboratorio 4 \n",
        "#### Algoritmos 2020 - 2\n",
        "#### Grupo 8\n",
        "Uso del método montecarlo para el cálculo de probabilidades sobre el juego 21 o Black Jack."
      ]
    },
    {
      "cell_type": "markdown",
      "metadata": {
        "id": "jAGe4H-HaQB7"
      },
      "source": [
        "## Punto 1"
      ]
    },
    {
      "cell_type": "markdown",
      "metadata": {
        "id": "uPihShXrXRpq"
      },
      "source": [
        "Estimar la probabilidad experimental de conseguir una 21 con un maso Español de 48 cartas y un maso de Poker de 52 cartas."
      ]
    },
    {
      "cell_type": "code",
      "metadata": {
        "id": "nAlmHg93qmPS"
      },
      "source": [
        "%matplotlib inline\n",
        "\n",
        "import random as r\n",
        "import matplotlib.pyplot as plt"
      ],
      "execution_count": null,
      "outputs": []
    },
    {
      "cell_type": "code",
      "metadata": {
        "id": "tSWhniqUHjcE"
      },
      "source": [
        "# Esta función captura el nombre de la variable para imprimirla como leyenda en el plot.\n",
        "def namestr(obj, namespace):\n",
        "  \"\"\"Función para tomar el mombre de la variable para plotear la leyenda del  histograma\"\"\"\n",
        "  return [name for name in namespace if namespace[name] is obj]"
      ],
      "execution_count": null,
      "outputs": []
    },
    {
      "cell_type": "code",
      "metadata": {
        "id": "hqukoQNr4Mni",
        "outputId": "42834f29-52f1-4b3a-a9b9-0be25a24d861",
        "colab": {
          "base_uri": "https://localhost:8080/",
          "height": 806
        }
      },
      "source": [
        "espanola = [1,2,3,4,5,6,7,10,11,12,1,2,3,4,5,6,7,8,9,10,11,12,1,2,3,4,5,6,7,8,9,10,11,12,1,2,3,4,5,6,7,8,9,10,11,12] # Baraja española\n",
        "especial = [1,2,3,4,5,6,7,8,9,10,11,12,13,1,2,3,4,5,6,7,8,9,10,11,12,13,1,2,3,4,5,6,7,8,9,10,11,12,13,1,2,3,4,5,6,7,8,9,10,11,12,13] # baraja especial hasta el num 13\n",
        "\n",
        "\n",
        "def prob21(cartas, leyenda='baraja'):\n",
        "  namestr(cartas, globals())\n",
        "  \"\"\"Definición de la función para calcular la probabilidad de sacar 21 en un mazo de cartas \"\"\"\n",
        "  #Selección de cartas\n",
        "  trl = 10000         # Numero de iteraciones\n",
        "  count = 0           # contador de 21's\n",
        "  numcart = []        # contador de cantidad de cartas .\n",
        "\n",
        "  for i in range(trl):                      # control de iteraciones\n",
        "    deck = cartas.copy() \n",
        "    cartas_seleccionadas = []\n",
        "    numero_cartas = 0\n",
        "    while(sum(cartas_seleccionadas) < 21):  # verificación de cantidad del valor de las cartas.\n",
        "      carta = r.choice(deck)                # Se escoje una carta aleatoriamente.\n",
        "      cartas_seleccionadas.append(carta)    \n",
        "      deck.remove(carta)\n",
        "      numero_cartas += 1\n",
        "\n",
        "    if(sum(cartas_seleccionadas) == 21):    # verifica que se haya realizado la 21.\n",
        "      count += 1 \n",
        "      numcart.append(len(cartas_seleccionadas))  \n",
        "\n",
        "    #debug = [cartas_seleccionadas,\" sum:\",sum(cartas_seleccionadas), count ]\n",
        "    #print (debug)\n",
        "    #print (numcart)\n",
        "\n",
        "  # Bloque de codigo que calcula las probabilidades.\n",
        "  prob =  count / trl\n",
        "  print(\"\\n\\n\")\n",
        "  print(\"La probabilidad de 21 es de: \", prob)\n",
        "  print(\"La frecuencia total es de: \", len(numcart))\n",
        "  print(\"\\n\")\n",
        "\n",
        "  # Bloque de codigo para plotear los datos \n",
        "  plt.hist(numcart, cumulative=False)\n",
        "  plt.xlabel(\"Cantidad de cartas\")\n",
        "  plt.ylabel(\"Frecuencia\")\n",
        "  plt.title(\"Cantidad de cartas para hacer 21\")\n",
        "  plt.legend(namestr(cartas, globals()));\n",
        "  plt.show()\n",
        "\n",
        "prob21(espanola)\n",
        "prob21(especial)\n",
        " "
      ],
      "execution_count": null,
      "outputs": [
        {
          "output_type": "stream",
          "text": [
            "\n",
            "\n",
            "\n",
            "La probabilidad de 21 es de:  0.1531\n",
            "La frecuencia total es de:  1531\n",
            "\n",
            "\n"
          ],
          "name": "stdout"
        },
        {
          "output_type": "display_data",
          "data": {
            "image/png": "[encoded data removed]",
            "text/plain": [
              "<Figure size 432x288 with 1 Axes>"
            ]
          },
          "metadata": {
            "tags": [],
            "needs_background": "light"
          }
        },
        {
          "output_type": "stream",
          "text": [
            "\n",
            "\n",
            "\n",
            "La probabilidad de 21 es de:  0.1493\n",
            "La frecuencia total es de:  1493\n",
            "\n",
            "\n"
          ],
          "name": "stdout"
        },
        {
          "output_type": "display_data",
          "data": {
            "image/png": "[encoded data removed]",
            "text/plain": [
              "<Figure size 432x288 with 1 Axes>"
            ]
          },
          "metadata": {
            "tags": [],
            "needs_background": "light"
          }
        }
      ]
    },
    {
      "cell_type": "markdown",
      "metadata": {
        "id": "lomfu2ZPaofC"
      },
      "source": [
        "## Punto 2"
      ]
    },
    {
      "cell_type": "markdown",
      "metadata": {
        "id": "lpELGkC6YTtl"
      },
      "source": [
        "Estimar la probabilidad experimental de conseguir una 21 con un maso Español de 48 cartas y un maso de Poker de 52 cartas, modificados para que el valor de todas las figuras tengas un valor de 10.\n",
        "\n",
        "Estimar el numero promedio de cartas en las que se consigue 21."
      ]
    },
    {
      "cell_type": "code",
      "metadata": {
        "id": "hdjES_0uastL",
        "outputId": "6408db94-7498-424b-fa73-a034610fef8e",
        "colab": {
          "base_uri": "https://localhost:8080/",
          "height": 808
        }
      },
      "source": [
        "# masos modificados\n",
        "espanol_modificado = [1,2,3,4,5,6,7,10,10,10,1,2,3,4,5,6,7,8,9,10,10,10,1,2,3,4,5,6,7,8,9,10,10,10,1,2,3,4,5,6,7,8,9,10,10,10]\n",
        "poker_modificado = [1,2,3,4,5,6,7,8,9,10,10,10,10,1,2,3,4,5,6,7,8,9,10,10,10,10,1,2,3,4,5,6,7,8,9,10,10,10,10,1,2,3,4,5,6,7,8,9,10,10,10,10]\n",
        "\n",
        "\n",
        "def prob21_10millones(cartas, leyenda='baraja'):\n",
        "  namestr(cartas, globals())\n",
        "  \"\"\"Definición de la función para calcular la probabilidad de sacar 21 en un mazo de cartas \"\"\"\n",
        "  #Selección de cartas\n",
        "  trl = 10000000         # Numero de iteraciones\n",
        "  count = 0           # contador de 21's\n",
        "  numcart = []        # contador de cantidad de cartas .\n",
        "\n",
        "  for i in range(trl):                      # control de iteraciones\n",
        "    deck = cartas.copy() \n",
        "    cartas_seleccionadas = []\n",
        "    numero_cartas = 0\n",
        "    while(sum(cartas_seleccionadas) < 21):  # verificación de cantidad del valor de las cartas.\n",
        "      carta = r.choice(deck)                # Se escoje una carta aleatoriamente.\n",
        "      cartas_seleccionadas.append(carta)    \n",
        "      deck.remove(carta)\n",
        "      numero_cartas += 1\n",
        "\n",
        "    if(sum(cartas_seleccionadas) == 21):    # verifica que se haya realizado la 21.\n",
        "      count += 1 \n",
        "      numcart.append(len(cartas_seleccionadas))  \n",
        "\n",
        "    #debug = [cartas_seleccionadas,\" sum:\",sum(cartas_seleccionadas), count ]\n",
        "    #print (debug)\n",
        "    #print (numcart)\n",
        "\n",
        "  # Bloque de codigo que calcula las probabilidades.\n",
        "  prob =  count / trl\n",
        "  print(\"\\n\\n\")\n",
        "  print(\"La probabilidad de 21 es de: \", prob)\n",
        "  print(\"La frecuencia total es de: \", len(numcart))\n",
        "  print(\"\\n\")\n",
        "\n",
        "  # Bloque de codigo para plotear los datos \n",
        "  plt.hist(numcart, cumulative=False)\n",
        "  plt.xlabel(\"Cantidad de cartas\")\n",
        "  plt.ylabel(\"Frecuencia\")\n",
        "  plt.title(\"Cantidad de cartas para hacer 21\")\n",
        "  plt.legend(namestr(cartas, globals()));\n",
        "  plt.show()\n",
        "\n",
        "# llamada al metodo para estimarla probabilidad usando Montecarlo\n",
        "prob21_10millones(espanol_modificado)\n",
        "prob21_10millones(poker_modificado)\n",
        "\n",
        "#plt.axvline(numcart.mean(), color='k', linestyle='dashed', linewidth=1)"
      ],
      "execution_count": null,
      "outputs": [
        {
          "output_type": "stream",
          "text": [
            "\n",
            "\n",
            "\n",
            "La probabilidad de 21 es de:  0.152871\n",
            "La frecuencia total es de:  152871\n",
            "\n",
            "\n"
          ],
          "name": "stdout"
        },
        {
          "output_type": "display_data",
          "data": {
            "image/png": "[encoded data removed]",
            "text/plain": [
              "<Figure size 432x288 with 1 Axes>"
            ]
          },
          "metadata": {
            "tags": [],
            "needs_background": "light"
          }
        },
        {
          "output_type": "stream",
          "text": [
            "\n",
            "\n",
            "\n",
            "La probabilidad de 21 es de:  0.140462\n",
            "La frecuencia total es de:  140462\n",
            "\n",
            "\n"
          ],
          "name": "stdout"
        },
        {
          "output_type": "display_data",
          "data": {
            "image/png": "[encoded data removed]",
            "text/plain": [
              "<Figure size 432x288 with 1 Axes>"
            ]
          },
          "metadata": {
            "tags": [],
            "needs_background": "light"
          }
        }
      ]
    },
    {
      "cell_type": "markdown",
      "metadata": {
        "id": "oA7a417ku6i0"
      },
      "source": [
        "## Punto 3"
      ]
    },
    {
      "cell_type": "markdown",
      "metadata": {
        "id": "XiXi89LdjJbN"
      },
      "source": [
        "Estimar \n",
        "la probabilidad de obtener 21\n",
        "Promedio decartas necesarias  para  conseguir 21\n",
        "\n",
        "bajo lassiguientes condiciones:\n",
        "\n",
        "El experimento inicia a la mitad del juego\n",
        "\n",
        "Masos modificados (Punto 2)\n",
        "\n",
        "Cartas en la mano del jugaor al iniciar el experimento [7, 7, 5]\n",
        "\n",
        "Los masos contienen n/2 cartas al iniciar el experimento\n",
        "\n",
        "Restricción: los masos eben contener maximo dos 7 y maximo tres 5\n"
      ]
    },
    {
      "cell_type": "code",
      "metadata": {
        "id": "SnD_WL8SfBzA",
        "outputId": "010dcce5-1c7b-4166-c52c-401236a09105",
        "colab": {
          "base_uri": "https://localhost:8080/",
          "height": 741
        }
      },
      "source": [
        "#punto 3\n",
        "\n",
        "\n",
        "# Baraja española y espescial con n/2 cartas\n",
        "# se eliminaron cartas de los masos con prioridad por cartas de alto valor\n",
        "especial_mitad = [1,2,3,4,10,6,8,1,2,3,4,5,1,2,3,4,5,6,7,8,1,2,3,4,5,6]\n",
        "espan_mitad = [1,2,5,6,7,10,11,12,1,8,9,10,11,12,1,2,3,12,1,6,7,10,11] \n",
        "\n",
        "# metodo modificado para un juego que se encuentra a la mitad\n",
        "# mano del juador: cartas_seleccionadas = [7, 7, 5]\n",
        "def prob21_mitad(cartas, leyenda='baraja'):\n",
        "  \"\"\"Definición de la función para calcular la probabilidad de sacar 21 en medio de un juego con la mano [] \"\"\"\n",
        "  #Selección de cartas\n",
        "  trl =10000000             # Numero de iteraciones\n",
        "  count = 0              # contador de 21's\n",
        "  numcart = []           #  contador de cartas\n",
        "\n",
        "  for i in range(trl):\n",
        "    deck = cartas.copy()\n",
        "    cartas_seleccionadas = [7, 7, 5]                # mano inicial del jugador con tres cartas Sum=19\n",
        "    numero_cartas = 0\n",
        "    while(sum(cartas_seleccionadas) < 21):\n",
        "      carta = r.choice(deck)\n",
        "      cartas_seleccionadas.append(carta) \n",
        "      deck.remove(carta)\n",
        "      numero_cartas += 1\n",
        "\n",
        "    if(sum(cartas_seleccionadas) == 21):\n",
        "      count += 1 \n",
        "      numcart.append(len(cartas_seleccionadas))  \n",
        "\n",
        "    #debug = [cartas_seleccionadas,\" sum:\",sum(cartas_seleccionadas), count ]\n",
        "    #print (debug)\n",
        "    #print (numcart)\n",
        "\n",
        "  prob =  count / trl\n",
        "  print(\"\\n\\n\")\n",
        "  print(\"La probabilidad de conseguir una 21 es de: \", prob)\n",
        "  print(\"La frecuencia total en {0} repeticiones, es de: \".format(trl), len(numcart))\n",
        "\n",
        "  plt.hist(numcart, cumulative=False)\n",
        "  plt.xlabel(\"Cantidad de cartas\")\n",
        "  plt.ylabel(\"Frecuencia\")\n",
        "  plt.title(\"Cantidad de cartas para hacer 21\")\n",
        "  plt.legend(namestr(cartas, globals()));\n",
        "\n",
        "  #cartas_promedio = sum(numcart) / float(len(numcart))\n",
        "  #plt.axvline(cartas_promedio , color='k', linestyle='dashed', linewidth=1)\n",
        "\n",
        "  plt.show()\n",
        "\n",
        "\n",
        "\n",
        "prob21_mitad(espan_mitad)\n",
        "prob21_mitad(especial_mitad)"
      ],
      "execution_count": null,
      "outputs": [
        {
          "output_type": "stream",
          "text": [
            "\n",
            "\n",
            "\n",
            "La probabilidad de conseguir una 21 es de:  0.1106671\n",
            "La frecuencia total en 10000000 repeticiones, es de:  1106671\n"
          ],
          "name": "stdout"
        },
        {
          "output_type": "display_data",
          "data": {
            "image/png": "[encoded data removed]",
            "text/plain": [
              "<Figure size 432x288 with 1 Axes>"
            ]
          },
          "metadata": {
            "tags": [],
            "needs_background": "light"
          }
        },
        {
          "output_type": "stream",
          "text": [
            "\n",
            "\n",
            "\n",
            "La probabilidad de conseguir una 21 es de:  0.1722029\n",
            "La frecuencia total en 10000000 repeticiones, es de:  1722029\n"
          ],
          "name": "stdout"
        },
        {
          "output_type": "display_data",
          "data": {
            "image/png": "[encoded data removed]",
            "text/plain": [
              "<Figure size 432x288 with 1 Axes>"
            ]
          },
          "metadata": {
            "tags": [],
            "needs_background": "light"
          }
        }
      ]
    },
    {
      "cell_type": "markdown",
      "metadata": {
        "id": "oMX2qW0inDb6"
      },
      "source": [
        "## Punto 4"
      ]
    },
    {
      "cell_type": "markdown",
      "metadata": {
        "id": "p6sYWEVXm-yK"
      },
      "source": [
        "Encontrar dos masos con 10 cartas (grupo 2) para los masos modificados, uno con la probabilidad para obtener 21, con la mas alta posible 'Hot Deck' y la menor probabilidad posible 'Cold Deck'.\n",
        "\n",
        "Condiciones iniciales:\n",
        "\n",
        "Cartas en la mano del jugaor al iniciar el experimento [7, 7, 5]\n",
        "\n",
        "Encontrar la anailiticamente probabilidad de encontrar 21 para los dos casos (hot y cold)\n",
        "\n",
        "Estimar la probabilidad de encontrar 21 utilizando Montecarlo\n",
        "\n",
        "Estimar la el pormedio de cartas totales necesarias para obtener 21"
      ]
    },
    {
      "cell_type": "markdown",
      "metadata": {
        "id": "6_u_70MztkJU"
      },
      "source": [
        "El 'hot deck' analiticamente se determina como el deck con más 1's y 2's posibles de manera que el hot deck estaria formado de la siguientes cartas [1,1,1,1,2,2,2,2,10,10].\n",
        "La probabilidad teorica de sacar 21, teniendo en la mano [7,7,5] es 4/10 + (4/10 * 3/9).\n"
      ]
    },
    {
      "cell_type": "code",
      "metadata": {
        "id": "zi9GeZ_mQmsd",
        "outputId": "24ab35d5-08f7-4948-b74e-2cdc637643f4",
        "colab": {
          "base_uri": "https://localhost:8080/",
          "height": 34
        }
      },
      "source": [
        "4/10+(4/10*3/9)"
      ],
      "execution_count": null,
      "outputs": [
        {
          "output_type": "execute_result",
          "data": {
            "text/plain": [
              "0.5333333333333334"
            ]
          },
          "metadata": {
            "tags": []
          },
          "execution_count": 11
        }
      ]
    },
    {
      "cell_type": "markdown",
      "metadata": {
        "id": "NbB9FrtiRJ9A"
      },
      "source": [
        "\n",
        "Mientras que la probabilidad de ganar con un 'cold deck' es de 0, ya que este estaria formado de cartas mayores de '2', por lo cual con cualquier carta repartida al jugador se perderia inmediatamente el juego."
      ]
    },
    {
      "cell_type": "code",
      "metadata": {
        "id": "hRGixTVPnG9J",
        "outputId": "4947e678-7781-4d55-868e-8664a20ec746",
        "colab": {
          "base_uri": "https://localhost:8080/",
          "height": 1000
        }
      },
      "source": [
        "#Al empezar el juego ya se tiene 7,7,5 para un total de 19 puntos por tanto\n",
        "#un hot deck es un mazo con 1's y 2's ya que solo con estas cartas es posible\n",
        "#ganar una partida.\n",
        "espanola = [1,2,3,4,5,6,7,10,11,12,1,2,3,4,5,6,7,8,9,10,11,12,1,2,3,4,5,6,7,8,9,10,11,12,1,2,3,4,5,6,7,8,9,10,11,12] # Baraja española\n",
        "caliente = [1,1,1,1,2,2,2,2,10,10]\n",
        "fria_esp = [10,10,10,10]\n",
        "fria_pok = [10,10,10]\n",
        "\n",
        "def prob21_ini(cartas, leyenda='baraja'): # Los comentarios de la función están en el punto 1\n",
        "  namestr(cartas, globals())\n",
        "  \"\"\"Definición de la función para calcular la probabilidad de sacar 21 en un mazo de cartas \"\"\"\n",
        "  #Selección de cartas\n",
        "  trl =10000000 # Numero de iteraciones\n",
        "  count = 0 # contador de 21's\n",
        "  numcart = [] # contador de cartas\n",
        "  for i in range(trl):\n",
        "    deck = cartas.copy()\n",
        "    cartas_seleccionadas = []\n",
        "    numero_cartas = 3\n",
        "    while((sum(cartas_seleccionadas) + 19)<21):\n",
        "      carta = r.choice(deck)\n",
        "      cartas_seleccionadas.append(carta) \n",
        "      deck.remove(carta)\n",
        "      numero_cartas += 1\n",
        "\n",
        "    if(sum(cartas_seleccionadas) + 19 == 21):\n",
        "      count += 1 \n",
        "      numcart.append(len(cartas_seleccionadas)+3)  \n",
        "\n",
        "    #debug = [cartas_seleccionadas,\" sum:\",sum(cartas_seleccionadas), count ]\n",
        "    #print (debug)\n",
        "    #print (numcart)\n",
        "\n",
        "  prob =  count / trl\n",
        "  print(\"\\n\\n\")\n",
        "  print(\"La probabilidad de 21 es de: \", prob)\n",
        "  print(\"La frecuencia total es de: \", len(numcart))\n",
        "  print(\"El promedio de cartas para sacar 21 es: \",((sum(numcart)/trl)))\n",
        "\n",
        "  plt.hist(numcart, cumulative=False)\n",
        "  plt.xlabel(\"Cantidad de cartas\")\n",
        "  plt.ylabel(\"Frecuencia\")\n",
        "  plt.title(\"Cantidad de cartas para hacer 21\")\n",
        "  plt.legend(namestr(cartas, globals()));\n",
        "  plt.show()\n",
        "print(\"HOT DECK\")\n",
        "prob21_ini(caliente)\n",
        "\n",
        "print(\"\\nSPANISH COLD DECK\")\n",
        "prob21_ini(fria_esp)\n",
        "\n",
        "print(\"\\nPOKER COLD DECK\")\n",
        "prob21_ini(fria_pok)\n",
        "  "
      ],
      "execution_count": null,
      "outputs": [
        {
          "output_type": "stream",
          "text": [
            "HOT DECK\n",
            "\n",
            "\n",
            "\n",
            "La probabilidad de 21 es de:  0.5334533\n",
            "La frecuencia total es de:  5334533\n",
            "El promedio de cartas para sacar 21 es:  2.2669937\n"
          ],
          "name": "stdout"
        },
        {
          "output_type": "display_data",
          "data": {
            "image/png": "[encoded data removed]",
            "text/plain": [
              "<Figure size 432x288 with 1 Axes>"
            ]
          },
          "metadata": {
            "tags": [],
            "needs_background": "light"
          }
        },
        {
          "output_type": "stream",
          "text": [
            "\n",
            "SPANISH COLD DECK\n",
            "\n",
            "\n",
            "\n",
            "La probabilidad de 21 es de:  0.0\n",
            "La frecuencia total es de:  0\n",
            "El promedio de cartas para sacar 21 es:  0.0\n"
          ],
          "name": "stdout"
        },
        {
          "output_type": "display_data",
          "data": {
            "image/png": "[encoded data removed]",
            "text/plain": [
              "<Figure size 432x288 with 1 Axes>"
            ]
          },
          "metadata": {
            "tags": [],
            "needs_background": "light"
          }
        },
        {
          "output_type": "stream",
          "text": [
            "\n",
            "POKER COLD DECK\n",
            "\n",
            "\n",
            "\n",
            "La probabilidad de 21 es de:  0.0\n",
            "La frecuencia total es de:  0\n",
            "El promedio de cartas para sacar 21 es:  0.0\n"
          ],
          "name": "stdout"
        },
        {
          "output_type": "display_data",
          "data": {
            "image/png": "[encoded data removed]",
            "text/plain": [
              "<Figure size 432x288 with 1 Axes>"
            ]
          },
          "metadata": {
            "tags": [],
            "needs_background": "light"
          }
        }
      ]
    },
    {
      "cell_type": "markdown",
      "metadata": {
        "id": "nF0w3h_b0aBN"
      },
      "source": [
        "## Punto 5"
      ]
    },
    {
      "cell_type": "markdown",
      "metadata": {
        "id": "tDoiUJBxsOUK"
      },
      "source": [
        "Estimar el valor pormedio de dinero (valor esperado) que se pierde o se gana en un fin de semana, para masos de Poker (52 cartas) y masos Españoles (48 cartas).\n",
        "\n",
        "Condiciones Iniciales:\n",
        "\n",
        "El jugador Ben juega todos los dias del fin de semana. 10 horas diarias y cada juego dura 3 minutos.\n",
        "\n",
        "Asuma los siguientes casos posibles\n",
        "1. La mano del jugador es [7, 7, 5], con un 'Hot Deck' de 10 cartas y se apuestan $1000. Este caso ocurre con probabilidad 1/10.\n",
        "\n",
        "2. la mano del jugador está vacia [ ], con un Deck completo y mezclado y se apuestan $10. Esto caso ocurre con probabilidad 9/10.\n",
        "\n"
      ]
    },
    {
      "cell_type": "code",
      "metadata": {
        "id": "96tpbuFy0fSC",
        "outputId": "37af5cf4-847a-4c03-8ec2-0caa42b3283c",
        "colab": {
          "base_uri": "https://localhost:8080/",
          "height": 546
        }
      },
      "source": [
        "#Ben juega 1800 minutos el fin de semana, cada juego dura 3 minutos\n",
        "#En total Ben juega 600 juegos en tres dias\n",
        "big = 0\n",
        "\n",
        "def blackjack(n,cartas, num_cartas):\n",
        "  \"\"\"Funcion para decidir si la partida se ganó o perdió\"\"\"\n",
        "  deck = cartas.copy()\n",
        "  cartas_seleccionadas = []\n",
        "  numero_cartas = 0\n",
        "  if(n==0):\n",
        "    while((sum(cartas_seleccionadas) + 19)<21):\n",
        "      carta = r.choice(deck)\n",
        "      cartas_seleccionadas.append(carta) \n",
        "      deck.remove(carta)\n",
        "      numero_cartas += 1\n",
        "\n",
        "    if(sum(cartas_seleccionadas) + 19 == 21):\n",
        "\n",
        "      if(len(num_cartas)<=10000):\n",
        "        num_cartas.append(numero_cartas+3) #Se suman 3 dado que siempre juega con las cartas 7,7,5\n",
        "      return True\n",
        "    else: \n",
        "      return False\n",
        "  else: \n",
        "    while((sum(cartas_seleccionadas))<21):\n",
        "      carta = r.choice(deck)\n",
        "      cartas_seleccionadas.append(carta) \n",
        "      deck.remove(carta)\n",
        "      numero_cartas += 1\n",
        "\n",
        "    if(sum(cartas_seleccionadas) == 21):\n",
        "      if(len(num_cartas)<=10000):\n",
        "        num_cartas.append(numero_cartas)\n",
        "      return True\n",
        "    else: \n",
        "      return False\n",
        "\n",
        "\n",
        "\n",
        "def juego_fin_semana_esp(num_cartas):\n",
        "  \"\"\"Funcion para calcular las ganancias durante un fin de semana\"\"\"\n",
        "  caliente = [1,1,1,1,2,2,2,2,10,10]\n",
        "  deck = [1,2,3,4,5,6,7,10,10,10,1,2,3,4,5,6,7,8,9,10,10,10,1,2,3,4,5,6,7,8,9,10,10,10,1,2,3,4,5,6,7,8,9,10,10,10]\n",
        "  fria = []\n",
        "  ganancias = 0\n",
        "  for i in range(600): #Juega 600 partidas\n",
        "    isHot = r.uniform(0,1) \n",
        "    if isHot <= 0.1: #Determina la probabilidad de un hot deck \n",
        "      if (blackjack(0,caliente,num_cartas)):\n",
        "        ganancias += 1000\n",
        "      else:\n",
        "        ganancias -= 1000\n",
        "    else:\n",
        "      if blackjack(1,deck,num_cartas):\n",
        "        ganancias += 10\n",
        "      else:\n",
        "        ganancias -= 10\n",
        "  return ganancias\n",
        "\n",
        "def juego_fin_semana_poker(num_cartas):\n",
        "  \"\"\"Funcion para calcular las ganancias durante un fin de semana\"\"\"\n",
        "  caliente = [1,1,1,1,2,2,2,2,10,10]\n",
        "  deck = [1,2,3,4,5,6,7,8,9,10,10,10,10,1,2,3,4,5,6,7,8,9,10,10,10,10,1,2,3,4,5,6,7,8,9,10,10,10,10,1,2,3,4,5,6,7,8,9,10,10,10,10] \n",
        "  ganancias = 0\n",
        "  for i in range(600): #Juega 600 partidas\n",
        "    isHot = r.uniform(0,1)\n",
        "    if isHot <= 0.1: #Determina la probabilidad de un hot deck\n",
        "      if (blackjack(0,caliente,num_cartas)):\n",
        "        ganancias += 1000\n",
        "      else:\n",
        "        ganancias -= 1000\n",
        "    else:\n",
        "      if blackjack(1,deck,num_cartas):\n",
        "        ganancias += 10\n",
        "      else:\n",
        "        ganancias -= 10\n",
        "  return ganancias\n",
        "hot = 0\n",
        "g = 0\n",
        "n = 10000\n",
        "num_cartas_esp = []\n",
        "for i in range(n):\n",
        "  g = juego_fin_semana_esp(num_cartas_esp)\n",
        "  g += g\n",
        "print(\"Ganancias promedio con baraja española: \",g/n)\n",
        "plt.hist(num_cartas_esp, cumulative=False)\n",
        "plt.show()\n",
        "g = 0\n",
        "num_cartas_poker=[]\n",
        "for i in range(n):\n",
        "  g = juego_fin_semana_poker(num_cartas_poker)\n",
        "  g += g\n",
        "print(\"Ganancias promedio con baraja de poker: \",g/n)\n",
        "plt.hist(num_cartas_poker, cumulative=False)\n",
        "plt.show()\n"
      ],
      "execution_count": null,
      "outputs": [
        {
          "output_type": "stream",
          "text": [
            "Ganancias promedio con baraja española:  -1.168\n"
          ],
          "name": "stdout"
        },
        {
          "output_type": "display_data",
          "data": {
            "image/png": "[encoded data removed]",
            "text/plain": [
              "<Figure size 432x288 with 1 Axes>"
            ]
          },
          "metadata": {
            "tags": [],
            "needs_background": "light"
          }
        },
        {
          "output_type": "stream",
          "text": [
            "Ganancias promedio con baraja de poker:  1.596\n"
          ],
          "name": "stdout"
        },
        {
          "output_type": "display_data",
          "data": {
            "image/png": "[encoded data removed]",
            "text/plain": [
              "<Figure size 432x288 with 1 Axes>"
            ]
          },
          "metadata": {
            "tags": [],
            "needs_background": "light"
          }
        }
      ]
    },
    {
      "cell_type": "markdown",
      "metadata": {
        "id": "NVO2WkNAJiSN"
      },
      "source": [
        "\n",
        "\n",
        "\n",
        "## Punto 7"
      ]
    },
    {
      "cell_type": "markdown",
      "metadata": {
        "id": "SElKKjgccfUc"
      },
      "source": [
        "Analiticamente la probabilidad de sacar un hot deck de la forma [1,1,1,1,2,2,2,2,5,7,7] de una baraja de poker es de:\n",
        "$\\frac{1}{52} + \\frac{1}{51} + \\frac{1}{50} + \\frac{1}{49}+ \\frac{1}{48} + \\frac{1}{47} + \\frac{1}{46} + \\frac{1}{45} + \\frac{1}{44} + \\frac{1}{43} + \\frac{1}{42}  = 0.2351106678586342$"
      ]
    },
    {
      "cell_type": "code",
      "metadata": {
        "id": "gt7czncmcQ5m",
        "outputId": "fa07a130-5a5e-48f4-f115-c31b53f24b72",
        "colab": {
          "base_uri": "https://localhost:8080/",
          "height": 34
        }
      },
      "source": [
        "1/52+1/51+1/50+1/49+1/48+1/47+1/46+1/45+1/44+1/43+1/42"
      ],
      "execution_count": null,
      "outputs": [
        {
          "output_type": "execute_result",
          "data": {
            "text/plain": [
              "0.2351106678586342"
            ]
          },
          "metadata": {
            "tags": []
          },
          "execution_count": 42
        }
      ]
    },
    {
      "cell_type": "markdown",
      "metadata": {
        "id": "9vPYDa9oaWLg"
      },
      "source": [
        "Analiticamente la probabilidad de sacar un hot deck de la forma [1,1,1,1,2,2,2,2,5,7,7] de una baraja española es de:$ \\frac{1}{48} + \\frac{1}{47} + \\frac{1}{46} + \\frac{1}{45} + \\frac{1}{44} + \\frac{1}{43} + \\frac{1}{42} + \\frac{1}{41} + \\frac{1}{40} + \\frac{1}{39} + \\frac{1}{38}  = 0.25721095124245275$"
      ]
    },
    {
      "cell_type": "code",
      "metadata": {
        "id": "YzYm75wtb4RF",
        "outputId": "1937057a-65e8-4a4b-c12d-55246544c12a",
        "colab": {
          "base_uri": "https://localhost:8080/",
          "height": 34
        }
      },
      "source": [
        "1/48+1/47+1/46+1/45+1/44+1/43+1/42+1/41+1/40+1/39+1/38"
      ],
      "execution_count": null,
      "outputs": [
        {
          "output_type": "execute_result",
          "data": {
            "text/plain": [
              "0.25721095124245275"
            ]
          },
          "metadata": {
            "tags": []
          },
          "execution_count": 40
        }
      ]
    },
    {
      "cell_type": "markdown",
      "metadata": {
        "id": "bLLF5MSec_gU"
      },
      "source": [
        "Analiticamente la probabilidad de sacar un hot deck con cartas [1,1,1,1,2,2,2,2,5,7,7,10,10] de una baraja española es de:\n",
        "$\\frac{1}{48} + \\frac{1}{47} + \\frac{1}{46} + \\frac{1}{45}+ \\frac{1}{44} + \\frac{1}{43} + \\frac{1}{42} + \\frac{1}{41} + \\frac{1}{40} + \\frac{1}{39}+ \\frac{1}{38} + \\frac{1}{37} + \\frac{1}{36}  = 0.2856999665735734$"
      ]
    },
    {
      "cell_type": "code",
      "metadata": {
        "id": "H5NgiWysc-YS",
        "outputId": "17b16bcc-6469-49d7-df5c-a9e9a25c3d89",
        "colab": {
          "base_uri": "https://localhost:8080/",
          "height": 34
        }
      },
      "source": [
        "1/48+1/47+1/46+1/45+1/44+1/43+1/42+1/41+1/40+1/39+1/37+1/36"
      ],
      "execution_count": null,
      "outputs": [
        {
          "output_type": "execute_result",
          "data": {
            "text/plain": [
              "0.2856999665735734"
            ]
          },
          "metadata": {
            "tags": []
          },
          "execution_count": 43
        }
      ]
    },
    {
      "cell_type": "markdown",
      "metadata": {
        "id": "My3t3CbJdcI7"
      },
      "source": [
        "Analiticamente la probabilidad de sacar un hot deck con cartas [1,1,1,1,2,2,2,2,5,7,7] de una baraja de poker es de:\n",
        " $\\frac{1}{52} + \\frac{1}{51} + \\frac{1}{50} + \\frac{1}{49} + \\frac{1}{48} + \\frac{1}{47} + \\frac{1}{46} + \\frac{1}{45}  + \\frac{1}{44} + \\frac{1}{43} + \\frac{1}{42}  + \\frac{1}{41} + \\frac{1}{40}  = 0.2845009117610732$"
      ]
    },
    {
      "cell_type": "code",
      "metadata": {
        "id": "MUbS-RmQdksu",
        "outputId": "86431df2-fd1b-4605-c6d9-8ac83e687091",
        "colab": {
          "base_uri": "https://localhost:8080/",
          "height": 34
        }
      },
      "source": [
        "1/52+1/51+1/50+1/49+1/48+1/47+1/46+1/45+1/44+1/43+1/42+1/41+1/40"
      ],
      "execution_count": null,
      "outputs": [
        {
          "output_type": "execute_result",
          "data": {
            "text/plain": [
              "0.2845009117610732"
            ]
          },
          "metadata": {
            "tags": []
          },
          "execution_count": 44
        }
      ]
    },
    {
      "cell_type": "markdown",
      "metadata": {
        "id": "IXLMslbseKbv"
      },
      "source": [
        "Analiticamente la probabilidad de sacar un hot deck con cartas [1,1,1,1,2,2,2,2,5,7,7,10,10,10,10] de una baraja española es de:\n",
        "$\\frac{1}{48} + \\frac{1}{47} + \\frac{1}{46} + \\frac{1}{45}+ \\frac{1}{44} + \\frac{1}{43} + \\frac{1}{42} + \\frac{1}{41} + \\frac{1}{40} + \\frac{1}{39} + \\frac{1}{38} + \\frac{1}{37}+ \\frac{1}{36}+ \\frac{1}{35}+ \\frac{1}{34}  = 0.3699989493245685$"
      ]
    },
    {
      "cell_type": "code",
      "metadata": {
        "id": "MIrozmUxeu_S",
        "outputId": "00036e79-6963-47cf-a4d0-9fd7124c0244",
        "colab": {
          "base_uri": "https://localhost:8080/",
          "height": 34
        }
      },
      "source": [
        "1/48+1/47+1/46+1/45+1/44+1/43+1/42+1/41+1/40+1/39+1/38+1/37+1/36+1/35+1/34"
      ],
      "execution_count": null,
      "outputs": [
        {
          "output_type": "execute_result",
          "data": {
            "text/plain": [
              "0.3699989493245685"
            ]
          },
          "metadata": {
            "tags": []
          },
          "execution_count": 45
        }
      ]
    },
    {
      "cell_type": "markdown",
      "metadata": {
        "id": "sKH8bXdpeOu6"
      },
      "source": [
        "Analiticamente la probabilidad de sacar un hot deck con cartas [1,1,1,1,2,2,2,2,5,7,7,10,10,10,10] de una baraja de poker es de:\n",
        " $\\frac{1}{52} + \\frac{1}{51} + \\frac{1}{50} + \\frac{1}{49} + \\frac{1}{48} + \\frac{1}{47} + \\frac{1}{46} + \\frac{1}{45}  + \\frac{1}{44} + \\frac{1}{43} + \\frac{1}{42} + \\frac{1}{41} + \\frac{1}{40} + \\frac{1}{39} + \\frac{1}{38}  = 0.3364577268757831$"
      ]
    },
    {
      "cell_type": "code",
      "metadata": {
        "id": "8G-2tFz6fEYT",
        "outputId": "773f3581-a796-4a2c-fb8e-934ae263d01b",
        "colab": {
          "base_uri": "https://localhost:8080/",
          "height": 34
        }
      },
      "source": [
        "1/52+1/51+1/50+1/49+1/48+1/47+1/46+1/45+1/44+1/43+1/42+1/41+1/40+1/39+1/38"
      ],
      "execution_count": null,
      "outputs": [
        {
          "output_type": "execute_result",
          "data": {
            "text/plain": [
              "0.3364577268757831"
            ]
          },
          "metadata": {
            "tags": []
          },
          "execution_count": 46
        }
      ]
    },
    {
      "cell_type": "markdown",
      "metadata": {
        "id": "8Xkj-KLdlNFq"
      },
      "source": [
        "##PUNTO 6 (Viejo)"
      ]
    },
    {
      "cell_type": "markdown",
      "metadata": {
        "id": "H6ZrbD5LlXZj"
      },
      "source": [
        "Este punto corresponde al punto 6 antes de que cambiaran los puntos del laboratorio."
      ]
    },
    {
      "cell_type": "code",
      "metadata": {
        "id": "s0Naz5GEVkB6",
        "outputId": "c275d782-9b43-4da1-9555-acc974a330d0",
        "colab": {
          "base_uri": "https://localhost:8080/",
          "height": 51
        }
      },
      "source": [
        "##PROBABILIDAD DE SACAR UN MAZO CALIENTE DE 8\n",
        "espanola = [1,2,3,4,6,10,11,12,1,2,3,4,5,6,8,9,10,11,12,1,2,3,4,5,6,7,8,9,10,11,12,1,2,3,4,5,6,7,8,9,10,11,12] # Baraja española sin dos 7 ni un 5\n",
        "especial = [1,2,3,4,6,8,9,10,11,12,13,1,2,3,4,5,6,8,9,10,11,12,13,1,2,3,4,5,6,7,8,9,10,11,12,13,1,2,3,4,5,6,7,8,9,10,11,12,13] # Baraja Poker sin dos 7 ni un 5\n",
        "\n",
        "def prob_hotdeck8(mazo):\n",
        "  caliente = [1,1,1,1,2,2,2,2]\n",
        "  trl = 10000000\n",
        "  n = 0\n",
        "  for i in range(trl):\n",
        "    arr = mazo.copy()\n",
        "    cartas_selec = []\n",
        "    for j in range(8):\n",
        "      carta = r.choice(arr)\n",
        "      cartas_selec.append(carta) \n",
        "      arr.remove(carta)\n",
        "    cartas_selec.sort()\n",
        "    if cartas_selec == caliente:\n",
        "      n += 1\n",
        "\n",
        "  return n/trl\n",
        "\n",
        "p_esp = prob_hotdeck8(espanola)\n",
        "p_pok = prob_hotdeck8(especial)\n",
        "print(\"Probabilidad mazo caliente con baraja espanola: \", p_esp)\n",
        "print(\"Probabilidad mazo caliente con baraja de poker: \", p_pok)\n"
      ],
      "execution_count": null,
      "outputs": [
        {
          "output_type": "stream",
          "text": [
            "Probabilidad mazo caliente con baraja espanola:  0.0\n",
            "Probabilidad mazo caliente con baraja de poker:  0.0\n"
          ],
          "name": "stdout"
        }
      ]
    },
    {
      "cell_type": "code",
      "metadata": {
        "id": "n1gLBmsGY0Ka",
        "outputId": "56a48118-ec7c-4546-94f8-6a81a5876633",
        "colab": {
          "base_uri": "https://localhost:8080/",
          "height": 51
        }
      },
      "source": [
        "##PROBABILIDAD DE SACAR UN MAZO CALIENTE DE 10\n",
        "espanola = [1,2,3,4,6,10,11,12,1,2,3,4,5,6,8,9,10,11,12,1,2,3,4,5,6,7,8,9,10,11,12,1,2,3,4,5,6,7,8,9,10,11,12] # Baraja española sin dos 7 ni un 5\n",
        "especial = [1,2,3,4,6,8,9,10,11,12,13,1,2,3,4,5,6,8,9,10,11,12,13,1,2,3,4,5,6,7,8,9,10,11,12,13,1,2,3,4,5,6,7,8,9,10,11,12,13] # Baraja Poker sin dos 7 ni un 5\n",
        "\n",
        "def prob_hotdeck10(mazo):\n",
        "  caliente = [1,1,1,1,2,2,2,2]\n",
        "  trl = 1000000\n",
        "  n = 0\n",
        "  for i in range(trl):\n",
        "    arr = mazo.copy()\n",
        "    cartas_selec = []\n",
        "    for j in range(10):\n",
        "      carta = r.choice(arr)\n",
        "      cartas_selec.append(carta) \n",
        "      arr.remove(carta)\n",
        "    cartas_selec.sort()\n",
        "    #print(cartas_selec[:8])\n",
        "    if cartas_selec[:8] == caliente:\n",
        "      n += 1\n",
        "\n",
        "  return n/trl\n",
        "\n",
        "p_esp = prob_hotdeck10(espanola)\n",
        "p_pok = prob_hotdeck10(especial)\n",
        "print(\"Probabilidad mazo caliente con baraja espanola: \", p_esp)\n",
        "print(\"Probabilidad mazo caliente con baraja de poker: \", p_pok)"
      ],
      "execution_count": null,
      "outputs": [
        {
          "output_type": "stream",
          "text": [
            "Probabilidad mazo caliente con baraja espanola:  0.0\n",
            "Probabilidad mazo caliente con baraja de poker:  0.0\n"
          ],
          "name": "stdout"
        }
      ]
    },
    {
      "cell_type": "code",
      "metadata": {
        "id": "U-i5jEi7aQMt",
        "outputId": "d2ee06b0-8161-404b-fc80-5ca2013006cb",
        "colab": {
          "base_uri": "https://localhost:8080/",
          "height": 51
        }
      },
      "source": [
        "##PROBABILIDAD DE SACAR UN MAZO CALIENTE DE 12\n",
        "espanola = [1,2,3,4,6,10,11,12,1,2,3,4,5,6,8,9,10,11,12,1,2,3,4,5,6,7,8,9,10,11,12,1,2,3,4,5,6,7,8,9,10,11,12] # Baraja española sin dos 7 ni un 5\n",
        "especial = [1,2,3,4,6,8,9,10,11,12,13,1,2,3,4,5,6,8,9,10,11,12,13,1,2,3,4,5,6,7,8,9,10,11,12,13,1,2,3,4,5,6,7,8,9,10,11,12,13] # Baraja Poker sin dos 7 ni un 5\n",
        "\n",
        "def prob_hotdeck12(mazo):\n",
        "  caliente = [1,1,1,1,2,2,2,2]\n",
        "  trl = 1000000\n",
        "  n = 0\n",
        "  for i in range(trl):\n",
        "    arr = mazo.copy()\n",
        "    cartas_selec = []\n",
        "    for j in range(12):\n",
        "      carta = r.choice(arr)\n",
        "      cartas_selec.append(carta) \n",
        "      arr.remove(carta)\n",
        "    cartas_selec.sort()\n",
        "    #print(cartas_selec[:8])\n",
        "    if cartas_selec[:8] == caliente:\n",
        "      n += 1\n",
        "\n",
        "  return n/trl\n",
        "\n",
        "p_esp = prob_hotdeck12(espanola)\n",
        "p_pok = prob_hotdeck12(especial)\n",
        "print(\"Probabilidad mazo caliente con baraja espanola: \", p_esp)\n",
        "print(\"Probabilidad mazo caliente con baraja de poker: \", p_pok)"
      ],
      "execution_count": null,
      "outputs": [
        {
          "output_type": "stream",
          "text": [
            "Probabilidad mazo caliente con baraja espanola:  6e-06\n",
            "Probabilidad mazo caliente con baraja de poker:  1e-06\n"
          ],
          "name": "stdout"
        }
      ]
    },
    {
      "cell_type": "code",
      "metadata": {
        "id": "grZg_geDJmUO",
        "outputId": "22640336-9f30-482a-d44a-1eabe2531719",
        "colab": {
          "base_uri": "https://localhost:8080/",
          "height": 282
        }
      },
      "source": [
        "espanola = [1,2,3,4,6,10,11,12,1,2,3,4,5,6,8,9,10,11,12,1,2,3,4,5,6,7,8,9,10,11,12,1,2,3,4,5,6,7,8,9,10,11,12] # Baraja española sin dos 7 ni un 5\n",
        "especial = [1,2,3,4,6,8,9,10,11,12,13,1,2,3,4,5,6,8,9,10,11,12,13,1,2,3,4,5,6,7,8,9,10,11,12,13,1,2,3,4,5,6,7,8,9,10,11,12,13] # Baraja Poker sin dos 7 ni un 5\n",
        "\n",
        "\n",
        "    \n",
        "\n",
        "def const_deck(cartas,temp, num=12):\n",
        "  cartas_seleccionadas = temp.copy()\n",
        "  deck = cartas.copy()\n",
        "  for i in range(len(cartas_seleccionadas), num):\n",
        "    carta = r.choice(deck)\n",
        "    cartas_seleccionadas.append(carta) \n",
        "    deck.remove(carta)\n",
        "  return cartas_seleccionadas\n",
        "\n",
        "def blackjack(cartas, num_cartas):\n",
        "  \"\"\"Funcion para decidir si la partida se ganó o perdió\"\"\"\n",
        "  deck = cartas.copy()\n",
        "  cartas_seleccionadas = []\n",
        "  numero_cartas = 0\n",
        "  while((sum(cartas_seleccionadas) + 19)<21):\n",
        "    carta = r.choice(deck)\n",
        "    cartas_seleccionadas.append(carta) \n",
        "    deck.remove(carta)\n",
        "    numero_cartas += 1\n",
        "\n",
        "  if(sum(cartas_seleccionadas) + 19 == 21):\n",
        "    if(len(num_cartas)<=10000):\n",
        "      num_cartas.append(numero_cartas+3) #Se suman 3 dado que siempre juega con las cartas 7,7,5\n",
        "    return True\n",
        "  else: \n",
        "    return False\n",
        "\n",
        "#La unica probabailidad significativa de hacer una mazo caliente es un mazo de 12 con baraja española\n",
        "def juego_hotdeck12(mazo,num_cartas):\n",
        "  \"\"\"Funcion para calcular las ganancias durante un fin de semana\"\"\"\n",
        "  caliente = [1,1,1,1,2,2,2,2]\n",
        "  fria = []\n",
        "  ganancias = 0\n",
        "  for i in range(600): #Juega 600 partidas\n",
        "    isHot12 = r.random()\n",
        "    if isHot12 == 0.000005:\n",
        "      cartas = const_deck(mazo,caliente)\n",
        "      if (blackjack(cartas,num_cartas)):\n",
        "        ganancias += 1000\n",
        "      else:\n",
        "        ganancias -= 1000\n",
        "    else:\n",
        "      cartas = const_deck(mazo,fria)\n",
        "      if blackjack(cartas,num_cartas):\n",
        "        ganancias += 10\n",
        "      else:\n",
        "        ganancias -= 10\n",
        "  return ganancias\n",
        "\n",
        "\n",
        "hot = 0\n",
        "g = 0\n",
        "n = 1000\n",
        "num_cartas_esp = []\n",
        "for i in range(n):\n",
        "  g = juego_hotdeck12(espanola,num_cartas_esp)\n",
        "  g += g\n",
        "print(\"Ganancias promedio con baraja española: \",g/n)\n",
        "plt.hist(num_cartas_esp, cumulative=False)\n",
        "plt.show()"
      ],
      "execution_count": null,
      "outputs": [
        {
          "output_type": "stream",
          "text": [
            "Ganancias promedio con baraja española:  -10.08\n"
          ],
          "name": "stdout"
        },
        {
          "output_type": "display_data",
          "data": {
            "image/png": "[encoded data removed]",
            "text/plain": [
              "<Figure size 432x288 with 1 Axes>"
            ]
          },
          "metadata": {
            "tags": [],
            "needs_background": "light"
          }
        }
      ]
    }
  ]
}